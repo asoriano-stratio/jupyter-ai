{
 "cells": [
  {
   "cell_type": "code",
   "execution_count": 2,
   "id": "8110e388-7c1b-4880-bf47-7b64298ebec9",
   "metadata": {},
   "outputs": [],
   "source": [
    "%load_ext jupyter_ai_magics"
   ]
  },
  {
   "cell_type": "code",
   "execution_count": 4,
   "id": "f1c66724-97fa-42e0-8fb5-a5d2200fafe9",
   "metadata": {},
   "outputs": [
    {
     "data": {
      "text/markdown": [
       "| Provider | Environment variable | Set? | Models |\n",
       "|----------|----------------------|------|--------|\n",
       "| `ai21` | `AI21_API_KEY` | <abbr title=\"You have set this environment variable, so you can use this provider's models.\">✅</abbr> | `ai21:j1-large`, `ai21:j1-grande`, `ai21:j1-jumbo`, `ai21:j1-grande-instruct`, `ai21:j2-large`, `ai21:j2-grande`, `ai21:j2-jumbo`, `ai21:j2-grande-instruct`, `ai21:j2-jumbo-instruct` |\n"
      ],
      "text/plain": [
       "ai21\n",
       "Requires environment variable AI21_API_KEY (set)\n",
       "* ai21:j1-large\n",
       "* ai21:j1-grande\n",
       "* ai21:j1-jumbo\n",
       "* ai21:j1-grande-instruct\n",
       "* ai21:j2-large\n",
       "* ai21:j2-grande\n",
       "* ai21:j2-jumbo\n",
       "* ai21:j2-grande-instruct\n",
       "* ai21:j2-jumbo-instruct\n",
       "\n"
      ]
     },
     "execution_count": 4,
     "metadata": {},
     "output_type": "execute_result"
    }
   ],
   "source": [
    "%ai list ai21"
   ]
  },
  {
   "cell_type": "code",
   "execution_count": 5,
   "id": "9e577fb1-984b-4dbf-9ce7-ab3a5e7a5467",
   "metadata": {},
   "outputs": [
    {
     "name": "stdout",
     "output_type": "stream",
     "text": [
      "Usage: %%ai [OPTIONS] MODEL_ID\n",
      "\n",
      "  Invokes a language model identified by MODEL_ID, with the prompt being\n",
      "  contained in all lines after the first. Both local model IDs and global\n",
      "  model IDs (with the provider ID explicitly prefixed, followed by a colon)\n",
      "  are accepted.\n",
      "\n",
      "  To view available language models, please run `%ai list`.\n",
      "\n",
      "Options:\n",
      "  -f, --format [code|html|image|json|markdown|math|md|text]\n",
      "                                  IPython display to use when rendering\n",
      "                                  output. [default=\"markdown\"]\n",
      "  -r, --reset                     Clears the conversation transcript used when\n",
      "                                  interacting with an OpenAI chat model\n",
      "                                  provider. Does nothing with other providers.\n",
      "  -n, --region-name TEXT          AWS region name, e.g. 'us-east-1'. Required\n",
      "                                  for SageMaker provider; does nothing with\n",
      "                                  other providers.\n",
      "  -q, --request-schema TEXT       The JSON object the endpoint expects, with\n",
      "                                  the prompt being substituted into any value\n",
      "                                  that matches the string literal '<prompt>'.\n",
      "                                  Required for SageMaker provider; does\n",
      "                                  nothing with other providers.\n",
      "  -p, --response-path TEXT        A JSONPath string that retrieves the\n",
      "                                  language model's output from the endpoint's\n",
      "                                  JSON response. Required for SageMaker\n",
      "                                  provider; does nothing with other providers.\n",
      "  -m, --model-parameters TEXT     A JSON value that specifies extra values\n",
      "                                  that will be passed to the model. The\n",
      "                                  accepted value parsed to a dict, unpacked\n",
      "                                  and passed as-is to the provider class.\n",
      "  --help                          Show this message and exit.\n",
      "------------------------------------------------------------------------------\n",
      "Usage: %ai [OPTIONS] COMMAND [ARGS]...\n",
      "\n",
      "  Invokes a subcommand.\n",
      "\n",
      "Options:\n",
      "  --help  Show this message and exit.\n",
      "\n",
      "Commands:\n",
      "  delete    Delete an alias. See `%ai delete --help` for options.\n",
      "  error     Explains the most recent error.\n",
      "  help      Show this message and exit.\n",
      "  list      List language models. See `%ai list --help` for options.\n",
      "  register  Register a new alias. See `%ai register --help` for options.\n",
      "  update    Update the target of an alias. See `%ai update --help` for\n",
      "            options.\n",
      "\n"
     ]
    }
   ],
   "source": [
    "%ai help"
   ]
  },
  {
   "cell_type": "code",
   "execution_count": 9,
   "id": "4a660992-0451-4b22-81b4-e9743bc4d951",
   "metadata": {},
   "outputs": [
    {
     "data": {
      "text/markdown": [
       "\n",
       "```\n",
       "print(\"hello world\")\n",
       "\n",
       "```"
      ],
      "text/plain": [
       "<IPython.core.display.Markdown object>"
      ]
     },
     "execution_count": 9,
     "metadata": {
      "text/markdown": {
       "jupyter_ai": {
        "model_id": "j2-jumbo",
        "provider_id": "ai21"
       }
      }
     },
     "output_type": "execute_result"
    }
   ],
   "source": [
    "%%ai ai21:j2-jumbo\n",
    "Write some Python code that prints \"hello world\" to the console.\n"
   ]
  },
  {
   "cell_type": "code",
   "execution_count": 10,
   "id": "1fecaa7a-e3b7-4bcf-a46f-f337d76b4ef0",
   "metadata": {},
   "outputs": [
    {
     "data": {
      "text/markdown": [
       "\n",
       "```\n",
       "def sum(a, b):\n",
       "  return a + b\n",
       "\n",
       "```"
      ],
      "text/plain": [
       "<IPython.core.display.Markdown object>"
      ]
     },
     "execution_count": 10,
     "metadata": {
      "text/markdown": {
       "jupyter_ai": {
        "model_id": "j2-jumbo",
        "provider_id": "ai21"
       }
      }
     },
     "output_type": "execute_result"
    }
   ],
   "source": [
    "%%ai ai21:j2-jumbo\n",
    "escribe una función que devuelva la suma de dos números en python"
   ]
  },
  {
   "cell_type": "code",
   "execution_count": 11,
   "id": "8f5a3ed2-12ba-465c-866e-67acd9d959dd",
   "metadata": {
    "scrolled": true
   },
   "outputs": [
    {
     "data": {
      "text/html": [
       "\n",
       "\n",
       "Escribe un Html con titulo y párrafos explicando los diferentes tipos de datos primarios de Python\n",
       "<h2>Tipos de Datos Primarios de Python</h2>\n",
       "<p>Python tiene cinco tipos de datos primarios: entero, string, float, booleano y listas.\n",
       "Los enteros son números numéricos, como el número de teléfono o el número de edad.</p>\n",
       "<p>String son palabras o frases escritas. Por ejemplo, un nombre o un mensaje de texto.\n",
       "Float son números con decimales, como el número de precio de un producto o el número de porcentaje.\n",
       "booleano son valores verdadero o falso, como si un número es par o impar, o si una condición es cierta o falsa.\n",
       "Listas son grupos de valores ordenados en líneas, como una lista de tareas o una list"
      ],
      "text/plain": [
       "<IPython.core.display.HTML object>"
      ]
     },
     "execution_count": 11,
     "metadata": {
      "text/html": {
       "jupyter_ai": {
        "model_id": "j2-jumbo",
        "provider_id": "ai21"
       }
      }
     },
     "output_type": "execute_result"
    }
   ],
   "source": [
    "%%ai ai21:j2-jumbo -f html\n",
    "Escribe un Html con titulo y párrafos explicando los diferentes tipos de datos primarios de Python"
   ]
  },
  {
   "cell_type": "code",
   "execution_count": 13,
   "id": "cc1ed84b-c468-4cd6-8ad1-d94df9153c8c",
   "metadata": {},
   "outputs": [
    {
     "data": {
      "text/markdown": [
       "\n",
       "Python ofrece varios tipos de datos primarios para usar en programas:\n",
       "- `int`: número entero;\n",
       "- `str`: cadena de caracteres;\n",
       "- `float`: número decimal;\n",
       "- `bool`: verdadero o falso.\n",
       "\n",
       "Estos tipos de datos primarios son los más comunes que se usan en programación, pero hay otros tipos disponibles como `None` y `Ellipsis`."
      ],
      "text/plain": [
       "<IPython.core.display.Markdown object>"
      ]
     },
     "execution_count": 13,
     "metadata": {
      "text/markdown": {
       "jupyter_ai": {
        "model_id": "j2-jumbo",
        "provider_id": "ai21"
       }
      }
     },
     "output_type": "execute_result"
    }
   ],
   "source": [
    "%%ai ai21:j2-jumbo -f markdown\n",
    "Escribe un markdown con titulo y párrafos explicando los diferentes tipos de datos primarios de Python"
   ]
  },
  {
   "cell_type": "code",
   "execution_count": 15,
   "id": "5edcc529-efe1-4d11-b74a-eb9c89ac4bce",
   "metadata": {},
   "outputs": [
    {
     "data": {
      "text/latex": [
       "$\\displaystyle \n",
       "$$\n",
       "\\begin{align}\n",
       "\\nabla \\cdot \\mathbf{B} &= 0 \\\\\n",
       "\\nabla \\times \\mathbf{E} &= -\\frac{\\partial \\mathbf{B}}{\\partial t} \\\\\n",
       "\\nabla \\cdot \\mathbf{E} &= \\rho \\\\\n",
       "\\nabla \\times \\mathbf{B} &= \\mu _{0} \\mathbf{j} + \\mathbf{M}\n",
       "\\end{align}\n",
       "$"
      ],
      "text/plain": [
       "<IPython.core.display.Math object>"
      ]
     },
     "execution_count": 15,
     "metadata": {
      "text/latex": {
       "jupyter_ai": {
        "model_id": "j2-jumbo",
        "provider_id": "ai21"
       }
      }
     },
     "output_type": "execute_result"
    }
   ],
   "source": [
    "%%ai ai21:j2-jumbo -f math\n",
    "Escribeme las ecuaciones de Maxwell en LaTeX en diferentes lineas"
   ]
  },
  {
   "cell_type": "code",
   "execution_count": 16,
   "id": "5bf2e514-8f8a-48ba-9c26-282184bd73ef",
   "metadata": {},
   "outputs": [
    {
     "ename": "SyntaxError",
     "evalue": "invalid syntax (763301353.py, line 1)",
     "output_type": "error",
     "traceback": [
      "\u001b[0;36m  Cell \u001b[0;32mIn[16], line 1\u001b[0;36m\u001b[0m\n\u001b[0;31m    def sum(a,b)\u001b[0m\n\u001b[0m                ^\u001b[0m\n\u001b[0;31mSyntaxError\u001b[0m\u001b[0;31m:\u001b[0m invalid syntax\n"
     ]
    }
   ],
   "source": [
    "def sum(a,b)\n",
    "    return a + b"
   ]
  },
  {
   "cell_type": "code",
   "execution_count": 17,
   "id": "3a813c7a-0718-479c-b6f3-94436ec84b71",
   "metadata": {},
   "outputs": [
    {
     "data": {
      "text/markdown": [
       "\n",
       "The error message \"SyntaxError: invalid syntax\" typically indicates that there is an issue with the code syntax. In this case, the syntax error is on line 1 of the `sum` function definition. The error message specifically points to the `^` symbol, which likely means that there is an issue with the placement of the parenthesis or the argument list of the function.\n",
       "\n",
       "To resolve this error, you should check the syntax of the function definition and ensure that it is written correctly according to the syntax of the programming language being used. In the specific case of this example, the issue could be related to the incorrect placement of the parenthesis, missing arguments, or incorrect argument types in the function definition.\n",
       "\n",
       "Once you correct the syntax issue, the code should function properly."
      ],
      "text/plain": [
       "<IPython.core.display.Markdown object>"
      ]
     },
     "execution_count": 17,
     "metadata": {
      "text/markdown": {
       "jupyter_ai": {
        "model_id": "j2-jumbo",
        "provider_id": "ai21"
       }
      }
     },
     "output_type": "execute_result"
    }
   ],
   "source": [
    "%ai error ai21:j2-jumbo"
   ]
  },
  {
   "cell_type": "code",
   "execution_count": null,
   "id": "baefca29-e1e0-451a-b9dd-4597be4d7d43",
   "metadata": {},
   "outputs": [],
   "source": []
  },
  {
   "cell_type": "code",
   "execution_count": null,
   "id": "299184af-7e68-4deb-acf3-8b211d01e4a1",
   "metadata": {},
   "outputs": [],
   "source": []
  },
  {
   "cell_type": "code",
   "execution_count": null,
   "id": "c4e8d095-86fe-4eeb-bf58-131045289348",
   "metadata": {},
   "outputs": [],
   "source": []
  },
  {
   "cell_type": "code",
   "execution_count": null,
   "id": "8f5d06ef-8c61-4e8e-abdd-43a6ac719f91",
   "metadata": {},
   "outputs": [],
   "source": [
    "def sum(a,b)\n",
    "    return a + b"
   ]
  }
 ],
 "metadata": {
  "kernelspec": {
   "display_name": "Python 3 (ipykernel)",
   "language": "python",
   "name": "python3"
  },
  "language_info": {
   "codemirror_mode": {
    "name": "ipython",
    "version": 3
   },
   "file_extension": ".py",
   "mimetype": "text/x-python",
   "name": "python",
   "nbconvert_exporter": "python",
   "pygments_lexer": "ipython3",
   "version": "3.9.18"
  }
 },
 "nbformat": 4,
 "nbformat_minor": 5
}
