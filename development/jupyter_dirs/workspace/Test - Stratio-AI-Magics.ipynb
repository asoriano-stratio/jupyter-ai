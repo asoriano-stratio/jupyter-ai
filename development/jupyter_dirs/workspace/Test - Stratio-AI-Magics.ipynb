{
 "cells": [
  {
   "cell_type": "markdown",
   "id": "d2ee713c-22e2-4e01-bfaa-fc2b3e04b1b9",
   "metadata": {},
   "source": [
    "## === Loading extension\n",
    "\n",
    "- <span style=\"color:red\"><b>TODO</b> - Hook for automatic loading if env.var INTELL_GENAI_ENABLE_JUPYTER_AI=true)</span>."
   ]
  },
  {
   "cell_type": "code",
   "execution_count": 1,
   "id": "6c3cde1d-17aa-47a3-9f8c-e5a6f730af43",
   "metadata": {},
   "outputs": [],
   "source": [
    "%load_ext intell_genai.stratio_ai_magics"
   ]
  },
  {
   "cell_type": "code",
   "execution_count": 23,
   "id": "fba895f0-e488-4eee-bf77-74bc4ce0d1b8",
   "metadata": {},
   "outputs": [
    {
     "name": "stdout",
     "output_type": "stream",
     "text": [
      "Usage: %%ai [OPTIONS] MODEL_ID\n",
      "\n",
      "  Invokes a language model identified by MODEL_ID, with the prompt being\n",
      "  contained in all lines after the first. Both local model IDs and global\n",
      "  model IDs (with the provider ID explicitly prefixed, followed by a colon)\n",
      "  are accepted.\n",
      "\n",
      "  To view available language models, please run `%ai list`.\n",
      "\n",
      "Options:\n",
      "  -f, --format [code|html|image|json|markdown|math|md|text]\n",
      "                                  IPython display to use when rendering\n",
      "                                  output. [default=\"markdown\"]\n",
      "  -n, --region-name TEXT          AWS region name, e.g. 'us-east-1'. Required\n",
      "                                  for SageMaker provider; does nothing with\n",
      "                                  other providers.\n",
      "  -q, --request-schema TEXT       The JSON object the endpoint expects, with\n",
      "                                  the prompt being substituted into any value\n",
      "                                  that matches the string literal '<prompt>'.\n",
      "                                  Required for SageMaker provider; does\n",
      "                                  nothing with other providers.\n",
      "  -p, --response-path TEXT        A JSONPath string that retrieves the\n",
      "                                  language model's output from the endpoint's\n",
      "                                  JSON response. Required for SageMaker\n",
      "                                  provider; does nothing with other providers.\n",
      "  -m, --model-parameters TEXT     A JSON value that specifies extra values\n",
      "                                  that will be passed to the model. The\n",
      "                                  accepted value parsed to a dict, unpacked\n",
      "                                  and passed as-is to the provider class.\n",
      "  --help                          Show this message and exit.\n",
      "------------------------------------------------------------------------------\n",
      "Usage: %ai [OPTIONS] COMMAND [ARGS]...\n",
      "\n",
      "  Invokes a subcommand.\n",
      "\n",
      "Options:\n",
      "  --help  Show this message and exit.\n",
      "\n",
      "Commands:\n",
      "  delete    Delete an alias. See `%ai delete --help` for options.\n",
      "  error     Explains the most recent error.\n",
      "  help      Show this message and exit.\n",
      "  list      List language models. See `%ai list --help` for options.\n",
      "  register  Register a new alias. See `%ai register --help` for options.\n",
      "  update    Update the target of an alias. See `%ai update --help` for\n",
      "            options.\n",
      "\n"
     ]
    }
   ],
   "source": [
    "%ai --help"
   ]
  },
  {
   "cell_type": "markdown",
   "id": "fe12e777-01bc-41d2-a680-5d0779afc47f",
   "metadata": {},
   "source": [
    "## === Listing available providers & custom commands/chains\n",
    "\n",
    "- <b>New feature</b>: Whitelist is not available on jupyter-ai-magics ==> Implemented in stratio_ai_magics\n",
    "- <b>New feature</b>: Custom commans & chains registration on magic plugin instantiation"
   ]
  },
  {
   "cell_type": "code",
   "execution_count": 2,
   "id": "54608052-2606-4988-9c02-6167d6803127",
   "metadata": {},
   "outputs": [
    {
     "data": {
      "text/markdown": [
       "| Provider | Environment variable | Set? | Models |\n",
       "|----------|----------------------|------|--------|\n",
       "| `stratio_genai_provider` | Not applicable. | <abbr title=\"Not applicable\">N/A</abbr> | Stratio GenAI Service: acts as a gateway to final LLM provider |\n",
       "\n",
       "Aliases and custom commands:\n",
       "\n",
       "| Name | Target |\n",
       "|------|--------|\n",
       "| `stratio_genai` | `stratio_genai_provider:*` |\n",
       "| `joke` | *custom chain* |\n"
      ],
      "text/plain": [
       "stratio_genai_provider\n",
       "* Stratio GenAI Service: acts as a gateway to final LLM provider\n",
       "\n",
       "\n",
       "Aliases and custom commands:\n",
       "stratio_genai - stratio_genai_provider:*\n",
       "joke - custom chain\n"
      ]
     },
     "execution_count": 2,
     "metadata": {},
     "output_type": "execute_result"
    }
   ],
   "source": [
    "%ai list"
   ]
  },
  {
   "cell_type": "markdown",
   "id": "72660b70-5aa2-4409-8815-d8ef99e4dda1",
   "metadata": {},
   "source": [
    "## === Interacting with default provider: Stratio GenAI ~ Proxy to final provider"
   ]
  },
  {
   "cell_type": "markdown",
   "id": "25b0680c-34e8-47a2-98a4-3662ffcfb31c",
   "metadata": {},
   "source": [
    "#### We don't need to specify MODEL_ID"
   ]
  },
  {
   "cell_type": "code",
   "execution_count": 10,
   "id": "9203bdb1-5aa8-408d-ab1d-d1259092710b",
   "metadata": {},
   "outputs": [
    {
     "data": {
      "text/markdown": [
       "Soy un modelo de lenguaje desarrollado por OpenAI llamado GPT-3. Estoy diseñado para generar respuestas a preguntas y ayudar con diversas tareas."
      ],
      "text/plain": [
       "<IPython.core.display.Markdown object>"
      ]
     },
     "execution_count": 10,
     "metadata": {
      "text/markdown": {
       "jupyter_ai": {
        "model_id": "none",
        "provider_id": "stratio_genai_provider"
       }
      }
     },
     "output_type": "execute_result"
    }
   ],
   "source": [
    "%%ai\n",
    "\n",
    "¿quien eres?"
   ]
  },
  {
   "cell_type": "markdown",
   "id": "e912cf43-425d-4e48-b69f-0d95af257fae",
   "metadata": {},
   "source": [
    "<span style=\"color:red\"><b>TODO</b> - specifing MODEL_ID other than stratio (~ enable openai in whitelist)</span>."
   ]
  },
  {
   "cell_type": "code",
   "execution_count": 7,
   "id": "bd1a21ac-05a8-4c5c-a853-75d9f8ac6735",
   "metadata": {},
   "outputs": [
    {
     "data": {
      "text/markdown": [
       "Soy un modelo de lenguaje desarrollado por OpenAI llamado GPT-3. Estoy aquí para ayudarte con tus preguntas y conversar contigo. ¿En qué puedo ayudarte hoy?"
      ],
      "text/plain": [
       "<IPython.core.display.Markdown object>"
      ]
     },
     "execution_count": 7,
     "metadata": {
      "text/markdown": {
       "jupyter_ai": {
        "model_id": "*",
        "provider_id": "stratio_genai_provider"
       }
      }
     },
     "output_type": "execute_result"
    }
   ],
   "source": [
    "%%ai stratio_genai\n",
    "\n",
    "¿quien eres?"
   ]
  },
  {
   "cell_type": "markdown",
   "id": "10584749-769a-418b-b7ca-541d3312fb31",
   "metadata": {},
   "source": [
    "#### Code generation"
   ]
  },
  {
   "cell_type": "code",
   "execution_count": 14,
   "id": "094b91cd-d9f2-49e2-9930-d74c458405cb",
   "metadata": {},
   "outputs": [
    {
     "data": {
      "text/html": [
       "AI generated code inserted below &#11015;&#65039;"
      ],
      "text/plain": [
       "<IPython.core.display.HTML object>"
      ]
     },
     "execution_count": 14,
     "metadata": {
      "text/html": {
       "jupyter_ai": {
        "model_id": "*",
        "provider_id": "stratio_genai_provider"
       }
      }
     },
     "output_type": "execute_result"
    }
   ],
   "source": [
    "%%ai -f code\n",
    "\n",
    "escribe una función que devuelva la suma de dos números en python"
   ]
  },
  {
   "cell_type": "code",
   "execution_count": null,
   "id": "759fcce1-2361-41b3-800b-c25fef803e44",
   "metadata": {},
   "outputs": [],
   "source": [
    "def suma(num1, num2):\n",
    "    return num1 + num2"
   ]
  },
  {
   "cell_type": "code",
   "execution_count": 15,
   "id": "537e6ba2-5f94-4071-a587-81e305bc28b6",
   "metadata": {},
   "outputs": [
    {
     "data": {
      "text/html": [
       "AI generated code inserted below &#11015;&#65039;"
      ],
      "text/plain": [
       "<IPython.core.display.HTML object>"
      ]
     },
     "execution_count": 15,
     "metadata": {
      "text/html": {
       "jupyter_ai": {
        "model_id": "*",
        "provider_id": "stratio_genai_provider"
       }
      }
     },
     "output_type": "execute_result"
    }
   ],
   "source": [
    "%%ai stratio_genai -f code\n",
    "\n",
    "escribe una función que devuelva el mínimo común multiplo de dos números"
   ]
  },
  {
   "cell_type": "code",
   "execution_count": null,
   "id": "0f11fd3f-8b2c-49e3-920b-91e4742cc5ce",
   "metadata": {},
   "outputs": [],
   "source": [
    "def minimo_comun_multiplo(a, b):\n",
    "    def mcm(a, b):\n",
    "        m = max(a, b)\n",
    "        while True:\n",
    "            if m % a == 0 and m % b == 0:\n",
    "                return m\n",
    "            m += 1\n",
    "    return mcm(a, b)"
   ]
  },
  {
   "cell_type": "markdown",
   "id": "e988d7d8-ea0b-4fbc-a93b-6c6ebdda1d82",
   "metadata": {},
   "source": [
    "#### Formatted text generation"
   ]
  },
  {
   "cell_type": "markdown",
   "id": "64f7f875-5b0c-44f7-90c4-b731faaf4799",
   "metadata": {},
   "source": [
    "<span style=\"color:red\"><b>Refinement</b> - Generated data is placed on cell output; ¿can it be placed on a new cell?</span>."
   ]
  },
  {
   "cell_type": "code",
   "execution_count": 16,
   "id": "cc03f2af-7f3b-47d2-8eaf-402c9bf91119",
   "metadata": {},
   "outputs": [
    {
     "data": {
      "text/html": [
       "<!DOCTYPE html>\n",
       "<html>\n",
       "<head>\n",
       "<title>Tipos de datos primarios de Python</title>\n",
       "</head>\n",
       "<body>\n",
       "<h1>Tipos de datos primarios de Python</h1>\n",
       "\n",
       "<p>En Python, los tipos de datos primarios se utilizan para representar valores básicos y simples. Los tipos de datos primarios en Python incluyen:</p>\n",
       "\n",
       "<h2>Números</h2>\n",
       "<p>En Python, se pueden utilizar diferentes tipos de números, como enteros (int), números de punto flotante (float) y números complejos (complex).</p>\n",
       "\n",
       "<h2>Cadenas de texto</h2>\n",
       "<p>Las cadenas de texto (str) se utilizan para representar texto en Python. Pueden estar encerradas entre comillas simples ('') o comillas dobles (\"\").</p>\n",
       "\n",
       "<h2>Booleanos</h2>\n",
       "<p>Los booleanos (bool) son un tipo de dato que solo puede tener dos valores: True o False. Se utilizan para representar la lógica y las condiciones en Python.</p>\n",
       "\n",
       "<h2>None</h2>\n",
       "<p>None es un tipo de dato especial en Python que se utiliza para representar la ausencia de valor. Se utiliza cuando una variable no tiene un valor asignado.</p>\n",
       "\n",
       "</body>\n",
       "</html>"
      ],
      "text/plain": [
       "<IPython.core.display.HTML object>"
      ]
     },
     "execution_count": 16,
     "metadata": {
      "text/html": {
       "jupyter_ai": {
        "model_id": "*",
        "provider_id": "stratio_genai_provider"
       }
      }
     },
     "output_type": "execute_result"
    }
   ],
   "source": [
    "%%ai -f html\n",
    "\n",
    "Escribe un Html con titulo y párrafos explicando los diferentes tipos de datos primarios de Python"
   ]
  },
  {
   "cell_type": "code",
   "execution_count": 18,
   "id": "b0cb220c-f7ca-4ab4-b0f9-a8100cef8447",
   "metadata": {},
   "outputs": [
    {
     "data": {
      "text/markdown": [
       "# Tipos de datos primarios en Python\n",
       "\n",
       "En Python, los tipos de datos primarios se utilizan para almacenar y representar diferentes tipos de valores. Estos tipos de datos primarios incluyen:\n",
       "\n",
       "## 1. Números\n",
       "\n",
       "Los números en Python se dividen en tres tipos principales: enteros (int), números de punto flotante (float) y números complejos (complex). Los enteros representan números enteros sin decimales, los números de punto flotante representan números con decimales y los números complejos representan números con una parte real e imaginaria.\n",
       "\n",
       "Ejemplos de números en Python:\n",
       "\n",
       "```python\n",
       "entero = 10\n",
       "punto_flotante = 3.14\n",
       "complejo = 2 + 3j\n",
       "```\n",
       "\n",
       "## 2. Cadenas de texto\n",
       "\n",
       "Las cadenas de texto (str) se utilizan para representar texto en Python. Pueden contener letras, números, símbolos y espacios. Las cadenas de texto se pueden definir utilizando comillas simples ('') o comillas dobles (\"\").\n",
       "\n",
       "Ejemplos de cadenas de texto en Python:\n",
       "\n",
       "```python\n",
       "nombre = 'Juan'\n",
       "frase = \"Hola, ¿cómo estás?\"\n",
       "```\n",
       "\n",
       "## 3. Booleanos\n",
       "\n",
       "Los valores booleanos (bool) en Python representan la verdad o la falsedad. Solo pueden tener dos valores posibles: True (verdadero) o False (falso). Se utilizan principalmente en expresiones lógicas y condiciones.\n",
       "\n",
       "Ejemplos de valores booleanos en Python:\n",
       "\n",
       "```python\n",
       "verdadero = True\n",
       "falso = False\n",
       "```\n",
       "\n",
       "## 4. Listas\n",
       "\n",
       "Las listas en Python son colecciones ordenadas y modificables de elementos. Pueden contener diferentes tipos de datos y se definen utilizando corchetes ([]). Los elementos de una lista se separan por comas.\n",
       "\n",
       "Ejemplo de lista en Python:\n",
       "\n",
       "```python\n",
       "numeros = [1, 2, 3, 4, 5]\n",
       "```\n",
       "\n",
       "## 5. Tuplas\n",
       "\n",
       "Las tuplas en Python son colecciones ordenadas e inmutables de elementos. Al igual que las listas, pueden contener diferentes tipos de datos, pero a diferencia de las listas, no se pueden modificar una vez creadas. Se definen utilizando paréntesis (()).\n",
       "\n",
       "Ejemplo de tupla en Python:\n",
       "\n",
       "```python\n",
       "coordenadas = (10, 20)\n",
       "```\n",
       "\n",
       "## 6. Conjuntos\n",
       "\n",
       "Los conjuntos en Python son colecciones no ordenadas de elementos únicos. No se pueden acceder a los elementos de un conjunto utilizando índices y no se mantienen en un orden específico. Se definen utilizando llaves ({}) o la función set().\n",
       "\n",
       "Ejemplo de conjunto en Python:\n",
       "\n",
       "```python\n",
       "colores = {'rojo', 'verde', 'azul'}\n",
       "```\n",
       "\n",
       "## 7. Diccionarios\n",
       "\n",
       "Los diccionarios en Python son colecciones de pares clave-valor. Cada elemento de un diccionario consiste en una clave y su valor correspondiente. Los diccionarios son modificables y se definen utilizando llaves ({}) y dos puntos (:).\n",
       "\n",
       "Ejemplo de diccionario en Python:\n",
       "\n",
       "```python\n",
       "persona = {'nombre': 'Juan', 'edad': 30, 'ciudad': 'Madrid'}\n",
       "```\n",
       "\n",
       "Estos son los principales tipos de datos primarios en Python. Cada uno de ellos tiene sus propias características y se utilizan para diferentes propósitos en la programación."
      ],
      "text/plain": [
       "<IPython.core.display.Markdown object>"
      ]
     },
     "execution_count": 18,
     "metadata": {
      "text/markdown": {
       "jupyter_ai": {
        "model_id": "*",
        "provider_id": "stratio_genai_provider"
       }
      }
     },
     "output_type": "execute_result"
    }
   ],
   "source": [
    "%%ai -f markdown\n",
    "\n",
    "Escribe un markdown con titulo y párrafos explicando los diferentes tipos de datos primarios de Python"
   ]
  },
  {
   "cell_type": "code",
   "execution_count": 26,
   "id": "a9efe542-be87-4e8a-a02c-6987c6c0669a",
   "metadata": {},
   "outputs": [
    {
     "data": {
      "text/latex": [
       "$\\displaystyle \n",
       "\\begin{align*}\n",
       "\\nabla \\cdot \\mathbf{E} &= \\frac{\\rho}{\\varepsilon_0} \\\\\n",
       "\\nabla \\cdot \\mathbf{B} &= 0 \\\\\n",
       "\\nabla \\times \\mathbf{E} &= -\\frac{\\partial \\mathbf{B}}{\\partial t} \\\\\n",
       "\\nabla \\times \\mathbf{B} &= \\mu_0 \\mathbf{J} + \\mu_0 \\varepsilon_0 \\frac{\\partial \\mathbf{E}}{\\partial t}\n",
       "\\end{align*}\n",
       "$"
      ],
      "text/plain": [
       "<IPython.core.display.Math object>"
      ]
     },
     "execution_count": 26,
     "metadata": {
      "text/latex": {
       "jupyter_ai": {
        "model_id": "*",
        "provider_id": "stratio_genai_provider"
       }
      }
     },
     "output_type": "execute_result"
    }
   ],
   "source": [
    "%%ai -f math\n",
    "\n",
    "Escribeme las ecuaciones de Maxwell en LaTeX"
   ]
  },
  {
   "cell_type": "markdown",
   "id": "284cfe92-d7b0-4ea0-ac87-c0aefac99a0a",
   "metadata": {},
   "source": [
    "## === Interacting with Stratio GenAI deployed chains\n",
    "- <b>POC</b>: Using JokeChain\n",
    "- <span style=\"color:red\"><b>TODO</b> - Integrate a more complex chain such as \"SQL\""
   ]
  },
  {
   "cell_type": "code",
   "execution_count": 4,
   "id": "d703ada2-6d30-4cc4-90e7-60ba7dcc69c6",
   "metadata": {},
   "outputs": [
    {
     "data": {
      "text/markdown": [
       "¿Qué hace un jugador de baloncesto enano cuando anota un triple?\n",
       "\n",
       "¡Salta de alegría, pero no muy alto para no perderse la canasta!"
      ],
      "text/plain": [
       "<IPython.core.display.Markdown object>"
      ]
     },
     "execution_count": 4,
     "metadata": {
      "text/markdown": {
       "jupyter_ai": {
        "custom_chain_id": "joke"
       }
      }
     },
     "output_type": "execute_result"
    }
   ],
   "source": [
    "%%ai joke\n",
    "\n",
    "jugadores de baloncesto enanos en Español"
   ]
  },
  {
   "cell_type": "markdown",
   "id": "cc00af8c-0efc-44a8-a542-9491419b5807",
   "metadata": {},
   "source": [
    "## === Registering & executing custom chains in runtime"
   ]
  },
  {
   "cell_type": "code",
   "execution_count": 19,
   "id": "f7fe3eee-9841-47a5-a26b-59b377f24f3e",
   "metadata": {
    "editable": true,
    "slideshow": {
     "slide_type": ""
    },
    "tags": []
   },
   "outputs": [],
   "source": [
    "from langchain.chains import LLMChain\n",
    "from langchain.prompts import PromptTemplate\n",
    "from langchain.llms import OpenAI\n",
    "\n",
    "# TODO ==> Custom LangChain BaseChatModel = StratioChatService(BaseChatModel) ~ client to Proxy chain \n",
    "from intell_genai.jupyter_ai.stratio_genai_provider.llm import StratioChatService\n",
    "\n",
    "llm = StratioChatService(temperature=0.9)\n",
    "\n",
    "prompt = PromptTemplate(\n",
    "    input_variables=[\"product\"],\n",
    "    template=\"What is a good name for a company that makes {product}?\",\n",
    ")\n",
    "\n",
    "chain = LLMChain(llm=llm, prompt=prompt)"
   ]
  },
  {
   "cell_type": "code",
   "execution_count": 20,
   "id": "e06eac4a-c904-451c-be46-4be9a5bda791",
   "metadata": {
    "editable": true,
    "slideshow": {
     "slide_type": ""
    },
    "tags": []
   },
   "outputs": [
    {
     "data": {
      "text/markdown": [
       "Registered new alias `companyname`"
      ],
      "text/plain": [
       "Registered new alias `companyname`"
      ]
     },
     "execution_count": 20,
     "metadata": {},
     "output_type": "execute_result"
    }
   ],
   "source": [
    "%ai register companyname chain"
   ]
  },
  {
   "cell_type": "code",
   "execution_count": 21,
   "id": "948b9490-0fe8-4cb7-a4ee-06f17526bc95",
   "metadata": {},
   "outputs": [
    {
     "data": {
      "text/markdown": [
       "| Provider | Environment variable | Set? | Models |\n",
       "|----------|----------------------|------|--------|\n",
       "| `stratio_genai_provider` | Not applicable. | <abbr title=\"Not applicable\">N/A</abbr> | Stratio GenAI Service: acts as a gateway to final LLM provider |\n",
       "\n",
       "Aliases and custom commands:\n",
       "\n",
       "| Name | Target |\n",
       "|------|--------|\n",
       "| `stratio_genai` | `stratio_genai_provider:*` |\n",
       "| `joke` | *custom chain* |\n",
       "| `companyname` | *custom chain* |\n"
      ],
      "text/plain": [
       "stratio_genai_provider\n",
       "* Stratio GenAI Service: acts as a gateway to final LLM provider\n",
       "\n",
       "\n",
       "Aliases and custom commands:\n",
       "stratio_genai - stratio_genai_provider:*\n",
       "joke - custom chain\n",
       "companyname - custom chain\n"
      ]
     },
     "execution_count": 21,
     "metadata": {},
     "output_type": "execute_result"
    }
   ],
   "source": [
    "%ai list"
   ]
  },
  {
   "cell_type": "code",
   "execution_count": 22,
   "id": "65fb43a5-fc51-49ae-b008-afc939fd3c53",
   "metadata": {
    "editable": true,
    "slideshow": {
     "slide_type": ""
    },
    "tags": []
   },
   "outputs": [
    {
     "name": "stderr",
     "output_type": "stream",
     "text": [
      "/home/asoriano/miniconda3/envs/genai-jupyterlab/lib/python3.9/site-packages/langchain_core/_api/deprecation.py:117: LangChainDeprecationWarning: The function `run` was deprecated in LangChain 0.1.0 and will be removed in 0.2.0. Use invoke instead.\n",
      "  warn_deprecated(\n"
     ]
    },
    {
     "data": {
      "text/markdown": [
       "\"Saladillo Snacks\" or \"Pickled Crispies\""
      ],
      "text/plain": [
       "<IPython.core.display.Markdown object>"
      ]
     },
     "execution_count": 22,
     "metadata": {
      "text/markdown": {
       "jupyter_ai": {
        "custom_chain_id": "companyname"
       }
      }
     },
     "output_type": "execute_result"
    }
   ],
   "source": [
    "%%ai companyname\n",
    "\n",
    "galletas saladas de pepinillo"
   ]
  }
 ],
 "metadata": {
  "kernelspec": {
   "display_name": "Python 3 (ipykernel)",
   "language": "python",
   "name": "python3"
  },
  "language_info": {
   "codemirror_mode": {
    "name": "ipython",
    "version": 3
   },
   "file_extension": ".py",
   "mimetype": "text/x-python",
   "name": "python",
   "nbconvert_exporter": "python",
   "pygments_lexer": "ipython3",
   "version": "3.9.18"
  }
 },
 "nbformat": 4,
 "nbformat_minor": 5
}
